{
  "nbformat": 4,
  "nbformat_minor": 0,
  "metadata": {
    "colab": {
      "provenance": []
    },
    "kernelspec": {
      "name": "python3",
      "display_name": "Python 3"
    },
    "language_info": {
      "name": "python"
    }
  },
  "cells": [
    {
      "cell_type": "code",
      "source": [
        "# 🧠 AI MOOD-BASED MOVIE RECOMMENDER SYSTEM\n",
        "\n",
        "# 🎯 Objective:\n",
        "# Recommend movies based on a user's mood using a scale-agnostic and LLM-inspired approach.\n",
        "\n",
        "import random\n",
        "\n",
        "# -------------------------------------------------------------\n",
        "# 🧩 1. Data Setup (Scale-Agnostic)\n",
        "# -------------------------------------------------------------\n",
        "# The system can handle any number of moods or movies — just add more if needed.\n",
        "\n",
        "mood_to_genre = {\n",
        "    \"happy\": [\"comedy\", \"romance\"],\n",
        "    \"sad\": [\"drama\", \"romance\"],\n",
        "    \"excited\": [\"action\", \"adventure\", \"sci-fi\"],\n",
        "    \"bored\": [\"thriller\", \"mystery\"],\n",
        "    \"nostalgic\": [\"drama\", \"romance\"],\n",
        "    \"stressed\": [\"comedy\", \"animation\"],\n",
        "    \"curious\": [\"documentary\", \"sci-fi\"],\n",
        "    \"romantic\": [\"romance\", \"musical\"]\n",
        "}\n",
        "\n",
        "movies = [\n",
        "    {\"title\": \"Inception\", \"genre\": \"sci-fi\"},\n",
        "    {\"title\": \"Titanic\", \"genre\": \"romance\"},\n",
        "    {\"title\": \"The Hangover\", \"genre\": \"comedy\"},\n",
        "    {\"title\": \"Joker\", \"genre\": \"drama\"},\n",
        "    {\"title\": \"Interstellar\", \"genre\": \"sci-fi\"},\n",
        "    {\"title\": \"Finding Nemo\", \"genre\": \"animation\"},\n",
        "    {\"title\": \"Avengers: Endgame\", \"genre\": \"action\"},\n",
        "    {\"title\": \"La La Land\", \"genre\": \"musical\"},\n",
        "    {\"title\": \"The Notebook\", \"genre\": \"romance\"},\n",
        "    {\"title\": \"Get Out\", \"genre\": \"thriller\"},\n",
        "    {\"title\": \"Gone Girl\", \"genre\": \"mystery\"},\n",
        "    {\"title\": \"The Social Dilemma\", \"genre\": \"documentary\"}\n",
        "]\n",
        "\n",
        "# -------------------------------------------------------------\n",
        "# 💬 2. LLM-Style Responses (Enhanced Gameplay)\n",
        "# -------------------------------------------------------------\n",
        "responses = [\n",
        "    \"Hmm, I totally get that vibe...\",\n",
        "    \"I see, that’s a strong mood — let’s find something that fits!\",\n",
        "    \"Got it! I think I know what you'll love.\",\n",
        "    \"Interesting feeling. Let me think of the right movie for that...\"\n",
        "]\n",
        "\n",
        "# -------------------------------------------------------------\n",
        "# 🎬 3. Mood Detection & Recommendation Logic\n",
        "# -------------------------------------------------------------\n",
        "user_mood = input(\"💭 How are you feeling today? (e.g. happy, sad, excited, bored): \").lower()\n",
        "\n",
        "print(\"\\n\" + random.choice(responses))\n",
        "\n",
        "if user_mood in mood_to_genre:\n",
        "    possible_genres = mood_to_genre[user_mood]\n",
        "    recommendations = [m[\"title\"] for m in movies if m[\"genre\"] in possible_genres]\n",
        "\n",
        "    if recommendations:\n",
        "        print(\"\\n🎥 Based on your mood (\" + user_mood + \"), you might enjoy:\")\n",
        "        for rec in recommendations:\n",
        "            print(\"   →\", rec)\n",
        "    else:\n",
        "        print(\"\\n😕 I don’t have a perfect match right now, but I can learn more moods and movies!\")\n",
        "else:\n",
        "    print(\"\\n🤔 I haven’t learned that mood yet — but you can teach me by adding it!\")\n",
        "\n",
        "# -------------------------------------------------------------\n",
        "# 📈 4. Conclusion\n",
        "# -------------------------------------------------------------\n",
        "print(\"\\n✅ PROJECT SUMMARY:\")\n",
        "print(\"• Scale-Agnostic: Handles new moods and movies easily.\")\n",
        "print(\"• Enhanced Gameplay: Uses conversational LLM-style responses.\")\n",
        "print(\"• Realistic AI Concept: Connects human emotion to entertainment choice.\")\n",
        "print(\"\\n✅ AI Mood-Based Entertainment Assistant completed successfully!\")\n"
      ],
      "metadata": {
        "colab": {
          "base_uri": "https://localhost:8080/"
        },
        "id": "GMHCu_Kat_Qy",
        "outputId": "3f10d4fc-0a04-4978-edfd-836716f32412"
      },
      "execution_count": 3,
      "outputs": [
        {
          "output_type": "stream",
          "name": "stdout",
          "text": [
            "💭 How are you feeling today? (e.g. happy, sad, excited, bored): bored\n",
            "\n",
            "Hmm, I totally get that vibe...\n",
            "\n",
            "🎥 Based on your mood (bored), you might enjoy:\n",
            "   → Get Out\n",
            "   → Gone Girl\n",
            "\n",
            "✅ PROJECT SUMMARY:\n",
            "• Scale-Agnostic: Handles new moods and movies easily.\n",
            "• Enhanced Gameplay: Uses conversational LLM-style responses.\n",
            "• Realistic AI Concept: Connects human emotion to entertainment choice.\n",
            "\n",
            "✅ AI Mood-Based Entertainment Assistant completed successfully!\n"
          ]
        }
      ]
    }
  ]
}